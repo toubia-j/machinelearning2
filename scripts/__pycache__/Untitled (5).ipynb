{
 "cells": [
  {
   "cell_type": "code",
   "execution_count": 15,
   "id": "abf8b115-da68-4cac-a35d-bee5578ecdc5",
   "metadata": {},
   "outputs": [
    {
     "name": "stdout",
     "output_type": "stream",
     "text": [
      "         ISBN                                         Book-Title  \\\n",
      "0  0195153448                                Classical Mythology   \n",
      "1  0002005018                                       Clara Callan   \n",
      "2  0060973129                               Decision in Normandy   \n",
      "3  0374157065  Flu: The Story of the Great Influenza Pandemic...   \n",
      "4  0393045218                             The Mummies of Urumchi   \n",
      "\n",
      "            Book-Author Year-Of-Publication                   Publisher  \\\n",
      "0    Mark P. O. Morford                2002     Oxford University Press   \n",
      "1  Richard Bruce Wright                2001       HarperFlamingo Canada   \n",
      "2          Carlo D'Este                1991             HarperPerennial   \n",
      "3      Gina Bari Kolata                1999        Farrar Straus Giroux   \n",
      "4       E. J. W. Barber                1999  W. W. Norton &amp; Company   \n",
      "\n",
      "                                         Image-URL-S  \\\n",
      "0  http://images.amazon.com/images/P/0195153448.0...   \n",
      "1  http://images.amazon.com/images/P/0002005018.0...   \n",
      "2  http://images.amazon.com/images/P/0060973129.0...   \n",
      "3  http://images.amazon.com/images/P/0374157065.0...   \n",
      "4  http://images.amazon.com/images/P/0393045218.0...   \n",
      "\n",
      "                                         Image-URL-M  \\\n",
      "0  http://images.amazon.com/images/P/0195153448.0...   \n",
      "1  http://images.amazon.com/images/P/0002005018.0...   \n",
      "2  http://images.amazon.com/images/P/0060973129.0...   \n",
      "3  http://images.amazon.com/images/P/0374157065.0...   \n",
      "4  http://images.amazon.com/images/P/0393045218.0...   \n",
      "\n",
      "                                         Image-URL-L  \n",
      "0  http://images.amazon.com/images/P/0195153448.0...  \n",
      "1  http://images.amazon.com/images/P/0002005018.0...  \n",
      "2  http://images.amazon.com/images/P/0060973129.0...  \n",
      "3  http://images.amazon.com/images/P/0374157065.0...  \n",
      "4  http://images.amazon.com/images/P/0393045218.0...  \n"
     ]
    },
    {
     "name": "stderr",
     "output_type": "stream",
     "text": [
      "C:\\Users\\joeto\\AppData\\Local\\Temp\\ipykernel_23524\\3255548433.py:4: DtypeWarning: Columns (3) have mixed types. Specify dtype option on import or set low_memory=False.\n",
      "  df1 = pd.read_csv('Books.csv')\n"
     ]
    }
   ],
   "source": [
    "import pandas as pd\n",
    "\n",
    "# Charger les datasets\n",
    "df1 = pd.read_csv('Books.csv')\n",
    "print(df1.head())"
   ]
  },
  {
   "cell_type": "code",
   "execution_count": 13,
   "id": "cb5bfc63-9fd8-4da2-972b-ca9b2d0b0fcc",
   "metadata": {},
   "outputs": [
    {
     "name": "stdout",
     "output_type": "stream",
     "text": [
      "          isbn13      isbn10           title subtitle  \\\n",
      "0  9780002005883  0002005883          Gilead      NaN   \n",
      "1  9780002261982  0002261987    Spider's Web  A Novel   \n",
      "2  9780006163831  0006163831    The One Tree      NaN   \n",
      "3  9780006178736  0006178731  Rage of angels      NaN   \n",
      "4  9780006280897  0006280897  The Four Loves      NaN   \n",
      "\n",
      "                           authors                     categories  \\\n",
      "0               Marilynne Robinson                        Fiction   \n",
      "1  Charles Osborne;Agatha Christie  Detective and mystery stories   \n",
      "2             Stephen R. Donaldson               American fiction   \n",
      "3                   Sidney Sheldon                        Fiction   \n",
      "4              Clive Staples Lewis                 Christian life   \n",
      "\n",
      "                                           thumbnail  \\\n",
      "0  http://books.google.com/books/content?id=KQZCP...   \n",
      "1  http://books.google.com/books/content?id=gA5GP...   \n",
      "2  http://books.google.com/books/content?id=OmQaw...   \n",
      "3  http://books.google.com/books/content?id=FKo2T...   \n",
      "4  http://books.google.com/books/content?id=XhQ5X...   \n",
      "\n",
      "                                         description  published_year  \\\n",
      "0  A NOVEL THAT READERS and critics have been eag...          2004.0   \n",
      "1  A new 'Christie for Christmas' -- a full-lengt...          2000.0   \n",
      "2  Volume Two of Stephen Donaldson's acclaimed se...          1982.0   \n",
      "3  A memorable, mesmerizing heroine Jennifer -- b...          1993.0   \n",
      "4  Lewis' work on the nature of love divides love...          2002.0   \n",
      "\n",
      "   average_rating  num_pages  ratings_count  \n",
      "0            3.85      247.0          361.0  \n",
      "1            3.83      241.0         5164.0  \n",
      "2            3.97      479.0          172.0  \n",
      "3            3.93      512.0        29532.0  \n",
      "4            4.15      170.0        33684.0  \n"
     ]
    }
   ],
   "source": [
    "df2 = pd.read_csv('data.csv')\n",
    "print(df2.head())"
   ]
  },
  {
   "cell_type": "code",
   "execution_count": 19,
   "id": "56ba42cd-3d53-40cf-9fbe-4d4dcf53312c",
   "metadata": {},
   "outputs": [
    {
     "name": "stdout",
     "output_type": "stream",
     "text": [
      "         ISBN              Book-Title       Book-Author Year-Of-Publication  \\\n",
      "0  0399135782  The Kitchen God's Wife           Amy Tan                1991   \n",
      "1  0440234743           The Testament      John Grisham                1999   \n",
      "2  0345402871                Airframe  Michael Crichton                1997   \n",
      "3  055321215X     Pride and Prejudice       Jane Austen                1983   \n",
      "4  055321215X     Pride and Prejudice       Jane Austen                1983   \n",
      "\n",
      "          Publisher                                        Image-URL-S  \\\n",
      "0  Putnam Pub Group  http://images.amazon.com/images/P/0399135782.0...   \n",
      "1              Dell  http://images.amazon.com/images/P/0440234743.0...   \n",
      "2  Ballantine Books  http://images.amazon.com/images/P/0345402871.0...   \n",
      "3            Bantam  http://images.amazon.com/images/P/055321215X.0...   \n",
      "4            Bantam  http://images.amazon.com/images/P/055321215X.0...   \n",
      "\n",
      "                                         Image-URL-M  \\\n",
      "0  http://images.amazon.com/images/P/0399135782.0...   \n",
      "1  http://images.amazon.com/images/P/0440234743.0...   \n",
      "2  http://images.amazon.com/images/P/0345402871.0...   \n",
      "3  http://images.amazon.com/images/P/055321215X.0...   \n",
      "4  http://images.amazon.com/images/P/055321215X.0...   \n",
      "\n",
      "                                         Image-URL-L         isbn13  \\\n",
      "0  http://images.amazon.com/images/P/0399135782.0...  9780143038108   \n",
      "1  http://images.amazon.com/images/P/0440234743.0...  9780440234746   \n",
      "2  http://images.amazon.com/images/P/0345402871.0...  9780099556312   \n",
      "3  http://images.amazon.com/images/P/055321215X.0...  9780140620221   \n",
      "4  http://images.amazon.com/images/P/055321215X.0...  9780141439518   \n",
      "\n",
      "       isbn10                   title subtitle           authors  \\\n",
      "0  0143038109  The Kitchen God's Wife      NaN           Amy Tan   \n",
      "1  0440234743           The Testament      NaN      John Grisham   \n",
      "2  0099556316                Airframe      NaN  Michael Crichton   \n",
      "3  0140620222     Pride and Prejudice      NaN       Jane Austen   \n",
      "4  0141439513     Pride and Prejudice      NaN       Jane Austen   \n",
      "\n",
      "          categories                                          thumbnail  \\\n",
      "0            Fiction  http://books.google.com/books/content?id=n0CzD...   \n",
      "1            Fiction  http://books.google.com/books/content?id=n5F5Q...   \n",
      "2  Adventure stories  http://books.google.com/books/content?id=drRsu...   \n",
      "3          Courtship  http://books.google.com/books/content?id=xdySu...   \n",
      "4            Fiction  http://books.google.com/books/content?id=obMP1...   \n",
      "\n",
      "                                         description  published_year  \\\n",
      "0  Winnie Louie, an aging Chinese woman convinced...          2006.0   \n",
      "1  A suicidal billionaire, a burnt-out Washington...          2000.0   \n",
      "2  The twin jet plane en route to Denver from Hon...          1997.0   \n",
      "3                           First published in 1813.          1994.0   \n",
      "4  In early nineteenth-century England, a spirite...          2003.0   \n",
      "\n",
      "   average_rating  num_pages  ratings_count  \n",
      "0            4.00      416.0        64285.0  \n",
      "1            3.85      535.0        85975.0  \n",
      "2            3.70      431.0        65778.0  \n",
      "3            4.25      299.0         1852.0  \n",
      "4            4.25      480.0        11552.0  \n"
     ]
    }
   ],
   "source": [
    "merged_df = pd.merge(df1, df2, left_on='Book-Title', right_on='title', how='inner')\n",
    "\n",
    "print(merged_df.head())\n",
    "\n"
   ]
  },
  {
   "cell_type": "code",
   "execution_count": 27,
   "id": "92424fe2-d654-4171-abc8-d27a8851d65e",
   "metadata": {},
   "outputs": [
    {
     "name": "stdout",
     "output_type": "stream",
     "text": [
      "         ISBN              Book-Title       Book-Author Year-Of-Publication  \\\n",
      "0  0399135782  The Kitchen God's Wife           Amy Tan                1991   \n",
      "1  0440234743           The Testament      John Grisham                1999   \n",
      "2  0345402871                Airframe  Michael Crichton                1997   \n",
      "3  055321215X     Pride and Prejudice       Jane Austen                1983   \n",
      "4  055321215X     Pride and Prejudice       Jane Austen                1983   \n",
      "\n",
      "          Publisher         categories  \\\n",
      "0  Putnam Pub Group            Fiction   \n",
      "1              Dell            Fiction   \n",
      "2  Ballantine Books  Adventure stories   \n",
      "3            Bantam          Courtship   \n",
      "4            Bantam            Fiction   \n",
      "\n",
      "                                         description  \n",
      "0  Winnie Louie, an aging Chinese woman convinced...  \n",
      "1  A suicidal billionaire, a burnt-out Washington...  \n",
      "2  The twin jet plane en route to Denver from Hon...  \n",
      "3                           First published in 1813.  \n",
      "4  In early nineteenth-century England, a spirite...  \n"
     ]
    }
   ],
   "source": [
    "# Supprimer les colonnes non désirées\n",
    "colonnes_a_supprimer = ['average_rating' , 'num_pages','ratings_count','thumbnail' , 'Image-URL-L', 'Image-URL-M','Image-URL-S','subtitle','title','authors','isbn13','isbn10','published_year']  # Remplacez par les noms des colonnes que vous voulez supprimer\n",
    "df_final = merged_df.drop(columns=colonnes_a_supprimer)\n",
    "\n",
    "# Afficher les premières lignes pour vérifier la suppression\n",
    "print(df_final.head())\n"
   ]
  },
  {
   "cell_type": "code",
   "execution_count": 29,
   "id": "e75b17d6-087f-483b-ae6c-d7119e49119b",
   "metadata": {},
   "outputs": [],
   "source": [
    "# Sauvegarder le DataFrame en fichier CSV\n",
    "df_final.to_csv('books_dataset.csv', index=False)\n"
   ]
  },
  {
   "cell_type": "code",
   "execution_count": 30,
   "id": "4ec6505f-be74-4d2d-9372-ba14e49634f1",
   "metadata": {},
   "outputs": [
    {
     "name": "stdout",
     "output_type": "stream",
     "text": [
      "Le DataFrame fusionné contient 101459 lignes.\n"
     ]
    }
   ],
   "source": [
    "\n",
    "# Charger les datasets\n",
    "books = pd.read_csv('books_dataset.csv')  # Remplacez par le chemin de votre fichier\n",
    "ratings = pd.read_csv('Ratings.csv')  # Remplacez par le chemin de votre fichier\n",
    "\n",
    "# Fusionner les datasets sur 'book_id'\n",
    "merged_df = pd.merge(books, ratings, on='ISBN', how='inner')\n",
    "\n",
    "# Obtenir le nombre de lignes dans le DataFrame fusionné\n",
    "nombre_de_lignes = merged_df.shape[0]\n",
    "\n",
    "# Afficher le nombre de lignes\n",
    "print(f\"Le DataFrame fusionné contient {nombre_de_lignes} lignes.\")\n"
   ]
  },
  {
   "cell_type": "code",
   "execution_count": null,
   "id": "b7a20545-d1ef-4077-9dd1-01a7d64efca5",
   "metadata": {},
   "outputs": [],
   "source": []
  }
 ],
 "metadata": {
  "kernelspec": {
   "display_name": "Python 3 (ipykernel)",
   "language": "python",
   "name": "python3"
  },
  "language_info": {
   "codemirror_mode": {
    "name": "ipython",
    "version": 3
   },
   "file_extension": ".py",
   "mimetype": "text/x-python",
   "name": "python",
   "nbconvert_exporter": "python",
   "pygments_lexer": "ipython3",
   "version": "3.9.19"
  }
 },
 "nbformat": 4,
 "nbformat_minor": 5
}
