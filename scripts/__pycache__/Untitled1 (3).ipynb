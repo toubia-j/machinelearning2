{
 "cells": [
  {
   "cell_type": "code",
   "execution_count": 1,
   "id": "70ee6a10-c0e6-4fd1-a2c5-b62d9d67aed4",
   "metadata": {},
   "outputs": [],
   "source": [
    "import pandas as pd\n",
    "\n",
    "# Charger les datasets\n",
    "df1 = pd.read_csv('books_dataset.csv')\n",
    "df2 = pd.read_csv('Users.csv')\n",
    "df3 = pd.read_csv('Ratings.csv')\n",
    "\n"
   ]
  },
  {
   "cell_type": "code",
   "execution_count": 2,
   "id": "6b755196-4c2f-40b5-b555-525f5ea2ead4",
   "metadata": {},
   "outputs": [],
   "source": [
    "import string\n",
    "from sklearn.feature_extraction.text import ENGLISH_STOP_WORDS\n",
    "from nltk.stem import PorterStemmer\n",
    "import re\n",
    "\n",
    "# Convertir en minuscules\n",
    "df1['Book-Title'] = df1['Book-Title'].str.lower()\n",
    "df1['description'] = df1['description'].str.lower()\n",
    "df1['categories'] = df1['categories'].str.lower()\n",
    "df1['Book-Author'] = df1['Book-Author'].str.lower()\n",
    "\n",
    "df1['description'] = df1['description'].fillna('')\n",
    "# Supprimer tous les caractères non alphabétiques et non numériques\n",
    "df1['description'] = df1['description'].apply(lambda x: re.sub(r'[^a-zA-Z0-9\\s]', '', x))\n",
    "# Supprimer les stopwords\n",
    "def remove_stopwords(text):\n",
    "    return \" \".join([word for word in text.split() if word not in ENGLISH_STOP_WORDS])\n",
    "\n",
    "df1['description'] = df1['description'].apply(remove_stopwords)\n",
    "\n",
    "# Appliquer le stemming\n",
    "stemmer = PorterStemmer()\n",
    "def stem_text(text):\n",
    "    return \" \".join([stemmer.stem(word) for word in text.split()])\n",
    "\n",
    "df1['description'] = df1['description'].apply(stem_text)"
   ]
  },
  {
   "cell_type": "code",
   "execution_count": 3,
   "id": "de278319-17cf-4afd-ac3d-060cfefb11e6",
   "metadata": {},
   "outputs": [
    {
     "name": "stdout",
     "output_type": "stream",
     "text": [
      "         ISBN              Book-Title       Book-Author  Year-Of-Publication  \\\n",
      "0  0399135782  the kitchen god's wife           amy tan                 1991   \n",
      "1  0440234743           the testament      john grisham                 1999   \n",
      "2  0345402871                airframe  michael crichton                 1997   \n",
      "3  055321215X     pride and prejudice       jane austen                 1983   \n",
      "4  055321215X     pride and prejudice       jane austen                 1983   \n",
      "\n",
      "          Publisher         categories  \\\n",
      "0  Putnam Pub Group            fiction   \n",
      "1              Dell            fiction   \n",
      "2  Ballantine Books  adventure stories   \n",
      "3            Bantam          courtship   \n",
      "4            Bantam            fiction   \n",
      "\n",
      "                                         description  \n",
      "0  winni louie age chines woman convinc die soon ...  \n",
      "1  suicid billionair burntout washington litig wo...  \n",
      "2  twin jet plane en rout denver hong kong mere g...  \n",
      "3                                       publish 1813  \n",
      "4  earli nineteenthcenturi england spirit young w...  \n"
     ]
    }
   ],
   "source": [
    "print(df1.head())"
   ]
  },
  {
   "cell_type": "code",
   "execution_count": 4,
   "id": "306dad21-c225-4e98-83a2-62089e2f56e6",
   "metadata": {},
   "outputs": [],
   "source": [
    "mean_age = df2['Age'].mean()\n",
    "df2['Age'] = df2['Age'].fillna(mean_age)\n",
    "# Nettoyage de la colonne 'Location'\n",
    "df2['Location'] = df2['Location'].fillna('')  # Remplacer les valeurs manquantes par une chaîne vide\n",
    "df2['Location'] = df2['Location'].apply(lambda x: re.sub(r'[^a-zA-Z0-9,\\s]', '', x))  # Supprimer la ponctuation\n",
    "df2['Location'] = df2['Location'].str.lower()  # Convertir en minuscules\n",
    "df2['Location'] = df2['Location'].apply(lambda x: re.sub(r'\\s+', ' ', x).strip())  # Supprimer les espaces multiples\n",
    "df2['Location'] = df2['Location'].apply(lambda x: [loc.strip() for loc in x.split(',')])\n",
    "df2['Location'] = df2['Location'].apply(lambda x: ' '.join(x))\n"
   ]
  },
  {
   "cell_type": "code",
   "execution_count": 5,
   "id": "1a218c67-7c93-47a7-ac4f-381f487bfad6",
   "metadata": {},
   "outputs": [
    {
     "name": "stdout",
     "output_type": "stream",
     "text": [
      "   User-ID                          Location        Age\n",
      "0        1                  nyc new york usa  34.751434\n",
      "1        2           stockton california usa  18.000000\n",
      "2        3     moscow yukon territory russia  34.751434\n",
      "3        4             porto vngaia portugal  17.000000\n",
      "4        5  farnborough hants united kingdom  34.751434\n"
     ]
    }
   ],
   "source": [
    "print(df2.head())"
   ]
  },
  {
   "cell_type": "code",
   "execution_count": 6,
   "id": "3eb690ad-b722-4cb2-b995-0c9c301c8546",
   "metadata": {},
   "outputs": [],
   "source": [
    "data = pd.merge(df3, df1, on='ISBN')  # Fusionner ratings et books\n",
    "data = pd.merge(data, df2, on='User-ID')  # Fusionner avec users\n",
    "data = data.dropna(subset=['categories'])"
   ]
  },
  {
   "cell_type": "code",
   "execution_count": 7,
   "id": "95298e22-ba19-47d4-93fa-8e9ae70dc005",
   "metadata": {},
   "outputs": [
    {
     "name": "stdout",
     "output_type": "stream",
     "text": [
      "   User-ID        ISBN  Book-Rating       Book-Title     Book-Author  \\\n",
      "0   276744  038550120X            7  a painted house    john grisham   \n",
      "1   276746  0425115801            0        lightning  dean r. koontz   \n",
      "2   276746  0786013990            0      at the edge       david dun   \n",
      "3   276762  0451167317            0    the dark half    stephen king   \n",
      "4   276786  8437606322            8    anna karenina     leo tolstoy   \n",
      "\n",
      "   Year-Of-Publication                 Publisher       categories  \\\n",
      "0                 2001                 Doubleday          fiction   \n",
      "1                 1996  Berkley Publishing Group          fiction   \n",
      "2                 2002            Pinnacle Books          fiction   \n",
      "3                 1994               Signet Book  english fiction   \n",
      "4                 1999    Ediciones Catedra S.A.          fiction   \n",
      "\n",
      "                                         description  \\\n",
      "0  racial tension forbidden love affair murder se...   \n",
      "1  aid crise life miracul intervent stranger laur...   \n",
      "2  clair tempest leona triplet blessedor cursedea...   \n",
      "3  written author carri salem lot shine christin ...   \n",
      "4          awardwin new translat great russian novel   \n",
      "\n",
      "                              Location        Age  \n",
      "0              torrance california usa  34.751434  \n",
      "1                         fort worth    34.751434  \n",
      "2                         fort worth    34.751434  \n",
      "3  duisburg nordrheinwestfalen germany  25.000000  \n",
      "4                  madrid madrid spain  34.000000  \n"
     ]
    }
   ],
   "source": [
    "print(data.head())"
   ]
  },
  {
   "cell_type": "code",
   "execution_count": 8,
   "id": "5f1c2b6d-e970-4e7e-ab16-7d2ca4825111",
   "metadata": {
    "scrolled": true
   },
   "outputs": [
    {
     "name": "stdout",
     "output_type": "stream",
     "text": [
      "Requirement already satisfied: transformers in c:\\users\\joeto\\anaconda3\\envs\\tp\\lib\\site-packages (4.48.1)\n",
      "Requirement already satisfied: sentence-transformers in c:\\users\\joeto\\anaconda3\\envs\\tp\\lib\\site-packages (3.4.0)\n",
      "Requirement already satisfied: filelock in c:\\users\\joeto\\anaconda3\\envs\\tp\\lib\\site-packages (from transformers) (3.17.0)\n",
      "Requirement already satisfied: huggingface-hub<1.0,>=0.24.0 in c:\\users\\joeto\\anaconda3\\envs\\tp\\lib\\site-packages (from transformers) (0.27.1)\n",
      "Requirement already satisfied: numpy>=1.17 in c:\\users\\joeto\\anaconda3\\envs\\tp\\lib\\site-packages (from transformers) (1.26.4)\n",
      "Requirement already satisfied: packaging>=20.0 in c:\\users\\joeto\\anaconda3\\envs\\tp\\lib\\site-packages (from transformers) (24.1)\n",
      "Requirement already satisfied: pyyaml>=5.1 in c:\\users\\joeto\\anaconda3\\envs\\tp\\lib\\site-packages (from transformers) (6.0.1)\n",
      "Requirement already satisfied: regex!=2019.12.17 in c:\\users\\joeto\\anaconda3\\envs\\tp\\lib\\site-packages (from transformers) (2024.11.6)\n",
      "Requirement already satisfied: requests in c:\\users\\joeto\\anaconda3\\envs\\tp\\lib\\site-packages (from transformers) (2.32.3)\n",
      "Requirement already satisfied: tokenizers<0.22,>=0.21 in c:\\users\\joeto\\anaconda3\\envs\\tp\\lib\\site-packages (from transformers) (0.21.0)\n",
      "Requirement already satisfied: safetensors>=0.4.1 in c:\\users\\joeto\\anaconda3\\envs\\tp\\lib\\site-packages (from transformers) (0.5.2)\n",
      "Requirement already satisfied: tqdm>=4.27 in c:\\users\\joeto\\anaconda3\\envs\\tp\\lib\\site-packages (from transformers) (4.66.5)\n",
      "Requirement already satisfied: torch>=1.11.0 in c:\\users\\joeto\\anaconda3\\envs\\tp\\lib\\site-packages (from sentence-transformers) (2.5.1)\n",
      "Requirement already satisfied: scikit-learn in c:\\users\\joeto\\anaconda3\\envs\\tp\\lib\\site-packages (from sentence-transformers) (1.5.2)\n",
      "Requirement already satisfied: scipy in c:\\users\\joeto\\anaconda3\\envs\\tp\\lib\\site-packages (from sentence-transformers) (1.13.1)\n",
      "Requirement already satisfied: Pillow in c:\\users\\joeto\\anaconda3\\envs\\tp\\lib\\site-packages (from sentence-transformers) (10.4.0)\n",
      "Requirement already satisfied: fsspec>=2023.5.0 in c:\\users\\joeto\\anaconda3\\envs\\tp\\lib\\site-packages (from huggingface-hub<1.0,>=0.24.0->transformers) (2024.12.0)\n",
      "Requirement already satisfied: typing-extensions>=3.7.4.3 in c:\\users\\joeto\\anaconda3\\envs\\tp\\lib\\site-packages (from huggingface-hub<1.0,>=0.24.0->transformers) (4.11.0)\n",
      "Requirement already satisfied: networkx in c:\\users\\joeto\\anaconda3\\envs\\tp\\lib\\site-packages (from torch>=1.11.0->sentence-transformers) (3.2.1)\n",
      "Requirement already satisfied: jinja2 in c:\\users\\joeto\\anaconda3\\envs\\tp\\lib\\site-packages (from torch>=1.11.0->sentence-transformers) (3.1.4)\n",
      "Requirement already satisfied: sympy==1.13.1 in c:\\users\\joeto\\anaconda3\\envs\\tp\\lib\\site-packages (from torch>=1.11.0->sentence-transformers) (1.13.1)\n",
      "Requirement already satisfied: mpmath<1.4,>=1.1.0 in c:\\users\\joeto\\anaconda3\\envs\\tp\\lib\\site-packages (from sympy==1.13.1->torch>=1.11.0->sentence-transformers) (1.3.0)\n",
      "Requirement already satisfied: colorama in c:\\users\\joeto\\anaconda3\\envs\\tp\\lib\\site-packages (from tqdm>=4.27->transformers) (0.4.6)\n",
      "Requirement already satisfied: charset-normalizer<4,>=2 in c:\\users\\joeto\\anaconda3\\envs\\tp\\lib\\site-packages (from requests->transformers) (3.3.2)\n",
      "Requirement already satisfied: idna<4,>=2.5 in c:\\users\\joeto\\anaconda3\\envs\\tp\\lib\\site-packages (from requests->transformers) (3.7)\n",
      "Requirement already satisfied: urllib3<3,>=1.21.1 in c:\\users\\joeto\\anaconda3\\envs\\tp\\lib\\site-packages (from requests->transformers) (2.2.2)\n",
      "Requirement already satisfied: certifi>=2017.4.17 in c:\\users\\joeto\\anaconda3\\envs\\tp\\lib\\site-packages (from requests->transformers) (2024.8.30)\n",
      "Requirement already satisfied: joblib>=1.2.0 in c:\\users\\joeto\\anaconda3\\envs\\tp\\lib\\site-packages (from scikit-learn->sentence-transformers) (1.4.2)\n",
      "Requirement already satisfied: threadpoolctl>=3.1.0 in c:\\users\\joeto\\anaconda3\\envs\\tp\\lib\\site-packages (from scikit-learn->sentence-transformers) (3.5.0)\n",
      "Requirement already satisfied: MarkupSafe>=2.0 in c:\\users\\joeto\\anaconda3\\envs\\tp\\lib\\site-packages (from jinja2->torch>=1.11.0->sentence-transformers) (2.1.3)\n"
     ]
    }
   ],
   "source": [
    "!pip install transformers sentence-transformers"
   ]
  },
  {
   "cell_type": "code",
   "execution_count": 9,
   "id": "eec8202e-0e96-4923-89a0-bbbdd4782e5e",
   "metadata": {
    "scrolled": true
   },
   "outputs": [
    {
     "name": "stdout",
     "output_type": "stream",
     "text": [
      "Requirement already satisfied: tf-keras in c:\\users\\joeto\\anaconda3\\envs\\tp\\lib\\site-packages (2.18.0)\n",
      "Requirement already satisfied: tensorflow<2.19,>=2.18 in c:\\users\\joeto\\anaconda3\\envs\\tp\\lib\\site-packages (from tf-keras) (2.18.0)\n",
      "Requirement already satisfied: tensorflow-intel==2.18.0 in c:\\users\\joeto\\anaconda3\\envs\\tp\\lib\\site-packages (from tensorflow<2.19,>=2.18->tf-keras) (2.18.0)\n",
      "Requirement already satisfied: absl-py>=1.0.0 in c:\\users\\joeto\\anaconda3\\envs\\tp\\lib\\site-packages (from tensorflow-intel==2.18.0->tensorflow<2.19,>=2.18->tf-keras) (2.1.0)\n",
      "Requirement already satisfied: astunparse>=1.6.0 in c:\\users\\joeto\\anaconda3\\envs\\tp\\lib\\site-packages (from tensorflow-intel==2.18.0->tensorflow<2.19,>=2.18->tf-keras) (1.6.3)\n",
      "Requirement already satisfied: flatbuffers>=24.3.25 in c:\\users\\joeto\\anaconda3\\envs\\tp\\lib\\site-packages (from tensorflow-intel==2.18.0->tensorflow<2.19,>=2.18->tf-keras) (24.3.25)\n",
      "Requirement already satisfied: gast!=0.5.0,!=0.5.1,!=0.5.2,>=0.2.1 in c:\\users\\joeto\\anaconda3\\envs\\tp\\lib\\site-packages (from tensorflow-intel==2.18.0->tensorflow<2.19,>=2.18->tf-keras) (0.6.0)\n",
      "Requirement already satisfied: google-pasta>=0.1.1 in c:\\users\\joeto\\anaconda3\\envs\\tp\\lib\\site-packages (from tensorflow-intel==2.18.0->tensorflow<2.19,>=2.18->tf-keras) (0.2.0)\n",
      "Requirement already satisfied: libclang>=13.0.0 in c:\\users\\joeto\\anaconda3\\envs\\tp\\lib\\site-packages (from tensorflow-intel==2.18.0->tensorflow<2.19,>=2.18->tf-keras) (18.1.1)\n",
      "Requirement already satisfied: opt-einsum>=2.3.2 in c:\\users\\joeto\\anaconda3\\envs\\tp\\lib\\site-packages (from tensorflow-intel==2.18.0->tensorflow<2.19,>=2.18->tf-keras) (3.4.0)\n",
      "Requirement already satisfied: packaging in c:\\users\\joeto\\anaconda3\\envs\\tp\\lib\\site-packages (from tensorflow-intel==2.18.0->tensorflow<2.19,>=2.18->tf-keras) (24.1)\n",
      "Requirement already satisfied: protobuf!=4.21.0,!=4.21.1,!=4.21.2,!=4.21.3,!=4.21.4,!=4.21.5,<6.0.0dev,>=3.20.3 in c:\\users\\joeto\\anaconda3\\envs\\tp\\lib\\site-packages (from tensorflow-intel==2.18.0->tensorflow<2.19,>=2.18->tf-keras) (5.29.0)\n",
      "Requirement already satisfied: requests<3,>=2.21.0 in c:\\users\\joeto\\anaconda3\\envs\\tp\\lib\\site-packages (from tensorflow-intel==2.18.0->tensorflow<2.19,>=2.18->tf-keras) (2.32.3)\n",
      "Requirement already satisfied: setuptools in c:\\users\\joeto\\anaconda3\\envs\\tp\\lib\\site-packages (from tensorflow-intel==2.18.0->tensorflow<2.19,>=2.18->tf-keras) (75.1.0)\n",
      "Requirement already satisfied: six>=1.12.0 in c:\\users\\joeto\\anaconda3\\envs\\tp\\lib\\site-packages (from tensorflow-intel==2.18.0->tensorflow<2.19,>=2.18->tf-keras) (1.16.0)\n",
      "Requirement already satisfied: termcolor>=1.1.0 in c:\\users\\joeto\\anaconda3\\envs\\tp\\lib\\site-packages (from tensorflow-intel==2.18.0->tensorflow<2.19,>=2.18->tf-keras) (2.5.0)\n",
      "Requirement already satisfied: typing-extensions>=3.6.6 in c:\\users\\joeto\\anaconda3\\envs\\tp\\lib\\site-packages (from tensorflow-intel==2.18.0->tensorflow<2.19,>=2.18->tf-keras) (4.11.0)\n",
      "Requirement already satisfied: wrapt>=1.11.0 in c:\\users\\joeto\\anaconda3\\envs\\tp\\lib\\site-packages (from tensorflow-intel==2.18.0->tensorflow<2.19,>=2.18->tf-keras) (1.17.0)\n",
      "Requirement already satisfied: grpcio<2.0,>=1.24.3 in c:\\users\\joeto\\anaconda3\\envs\\tp\\lib\\site-packages (from tensorflow-intel==2.18.0->tensorflow<2.19,>=2.18->tf-keras) (1.68.1)\n",
      "Requirement already satisfied: tensorboard<2.19,>=2.18 in c:\\users\\joeto\\anaconda3\\envs\\tp\\lib\\site-packages (from tensorflow-intel==2.18.0->tensorflow<2.19,>=2.18->tf-keras) (2.18.0)\n",
      "Requirement already satisfied: keras>=3.5.0 in c:\\users\\joeto\\anaconda3\\envs\\tp\\lib\\site-packages (from tensorflow-intel==2.18.0->tensorflow<2.19,>=2.18->tf-keras) (3.7.0)\n",
      "Requirement already satisfied: numpy<2.1.0,>=1.26.0 in c:\\users\\joeto\\anaconda3\\envs\\tp\\lib\\site-packages (from tensorflow-intel==2.18.0->tensorflow<2.19,>=2.18->tf-keras) (1.26.4)\n",
      "Requirement already satisfied: h5py>=3.11.0 in c:\\users\\joeto\\anaconda3\\envs\\tp\\lib\\site-packages (from tensorflow-intel==2.18.0->tensorflow<2.19,>=2.18->tf-keras) (3.12.1)\n",
      "Requirement already satisfied: ml-dtypes<0.5.0,>=0.4.0 in c:\\users\\joeto\\anaconda3\\envs\\tp\\lib\\site-packages (from tensorflow-intel==2.18.0->tensorflow<2.19,>=2.18->tf-keras) (0.4.1)\n",
      "Requirement already satisfied: tensorflow-io-gcs-filesystem>=0.23.1 in c:\\users\\joeto\\anaconda3\\envs\\tp\\lib\\site-packages (from tensorflow-intel==2.18.0->tensorflow<2.19,>=2.18->tf-keras) (0.31.0)\n",
      "Requirement already satisfied: wheel<1.0,>=0.23.0 in c:\\users\\joeto\\anaconda3\\envs\\tp\\lib\\site-packages (from astunparse>=1.6.0->tensorflow-intel==2.18.0->tensorflow<2.19,>=2.18->tf-keras) (0.44.0)\n",
      "Requirement already satisfied: rich in c:\\users\\joeto\\anaconda3\\envs\\tp\\lib\\site-packages (from keras>=3.5.0->tensorflow-intel==2.18.0->tensorflow<2.19,>=2.18->tf-keras) (13.9.4)\n",
      "Requirement already satisfied: namex in c:\\users\\joeto\\anaconda3\\envs\\tp\\lib\\site-packages (from keras>=3.5.0->tensorflow-intel==2.18.0->tensorflow<2.19,>=2.18->tf-keras) (0.0.8)\n",
      "Requirement already satisfied: optree in c:\\users\\joeto\\anaconda3\\envs\\tp\\lib\\site-packages (from keras>=3.5.0->tensorflow-intel==2.18.0->tensorflow<2.19,>=2.18->tf-keras) (0.13.1)\n",
      "Requirement already satisfied: charset-normalizer<4,>=2 in c:\\users\\joeto\\anaconda3\\envs\\tp\\lib\\site-packages (from requests<3,>=2.21.0->tensorflow-intel==2.18.0->tensorflow<2.19,>=2.18->tf-keras) (3.3.2)\n",
      "Requirement already satisfied: idna<4,>=2.5 in c:\\users\\joeto\\anaconda3\\envs\\tp\\lib\\site-packages (from requests<3,>=2.21.0->tensorflow-intel==2.18.0->tensorflow<2.19,>=2.18->tf-keras) (3.7)\n",
      "Requirement already satisfied: urllib3<3,>=1.21.1 in c:\\users\\joeto\\anaconda3\\envs\\tp\\lib\\site-packages (from requests<3,>=2.21.0->tensorflow-intel==2.18.0->tensorflow<2.19,>=2.18->tf-keras) (2.2.2)\n",
      "Requirement already satisfied: certifi>=2017.4.17 in c:\\users\\joeto\\anaconda3\\envs\\tp\\lib\\site-packages (from requests<3,>=2.21.0->tensorflow-intel==2.18.0->tensorflow<2.19,>=2.18->tf-keras) (2024.8.30)\n",
      "Requirement already satisfied: markdown>=2.6.8 in c:\\users\\joeto\\anaconda3\\envs\\tp\\lib\\site-packages (from tensorboard<2.19,>=2.18->tensorflow-intel==2.18.0->tensorflow<2.19,>=2.18->tf-keras) (3.7)\n",
      "Requirement already satisfied: tensorboard-data-server<0.8.0,>=0.7.0 in c:\\users\\joeto\\anaconda3\\envs\\tp\\lib\\site-packages (from tensorboard<2.19,>=2.18->tensorflow-intel==2.18.0->tensorflow<2.19,>=2.18->tf-keras) (0.7.2)\n",
      "Requirement already satisfied: werkzeug>=1.0.1 in c:\\users\\joeto\\anaconda3\\envs\\tp\\lib\\site-packages (from tensorboard<2.19,>=2.18->tensorflow-intel==2.18.0->tensorflow<2.19,>=2.18->tf-keras) (3.1.3)\n",
      "Requirement already satisfied: importlib-metadata>=4.4 in c:\\users\\joeto\\anaconda3\\envs\\tp\\lib\\site-packages (from markdown>=2.6.8->tensorboard<2.19,>=2.18->tensorflow-intel==2.18.0->tensorflow<2.19,>=2.18->tf-keras) (7.0.1)\n",
      "Requirement already satisfied: MarkupSafe>=2.1.1 in c:\\users\\joeto\\anaconda3\\envs\\tp\\lib\\site-packages (from werkzeug>=1.0.1->tensorboard<2.19,>=2.18->tensorflow-intel==2.18.0->tensorflow<2.19,>=2.18->tf-keras) (2.1.3)\n",
      "Requirement already satisfied: markdown-it-py>=2.2.0 in c:\\users\\joeto\\anaconda3\\envs\\tp\\lib\\site-packages (from rich->keras>=3.5.0->tensorflow-intel==2.18.0->tensorflow<2.19,>=2.18->tf-keras) (3.0.0)\n",
      "Requirement already satisfied: pygments<3.0.0,>=2.13.0 in c:\\users\\joeto\\anaconda3\\envs\\tp\\lib\\site-packages (from rich->keras>=3.5.0->tensorflow-intel==2.18.0->tensorflow<2.19,>=2.18->tf-keras) (2.15.1)\n",
      "Requirement already satisfied: zipp>=0.5 in c:\\users\\joeto\\anaconda3\\envs\\tp\\lib\\site-packages (from importlib-metadata>=4.4->markdown>=2.6.8->tensorboard<2.19,>=2.18->tensorflow-intel==2.18.0->tensorflow<2.19,>=2.18->tf-keras) (3.17.0)\n",
      "Requirement already satisfied: mdurl~=0.1 in c:\\users\\joeto\\anaconda3\\envs\\tp\\lib\\site-packages (from markdown-it-py>=2.2.0->rich->keras>=3.5.0->tensorflow-intel==2.18.0->tensorflow<2.19,>=2.18->tf-keras) (0.1.2)\n"
     ]
    }
   ],
   "source": [
    "!pip install tf-keras"
   ]
  },
  {
   "cell_type": "code",
   "execution_count": 10,
   "id": "2e7e6244-0c16-4b4c-9bd3-c9bc4d7ea9e2",
   "metadata": {},
   "outputs": [
    {
     "name": "stdout",
     "output_type": "stream",
     "text": [
      "WARNING:tensorflow:From C:\\Users\\joeto\\anaconda3\\envs\\tp\\lib\\site-packages\\tf_keras\\src\\losses.py:2976: The name tf.losses.sparse_softmax_cross_entropy is deprecated. Please use tf.compat.v1.losses.sparse_softmax_cross_entropy instead.\n",
      "\n"
     ]
    }
   ],
   "source": [
    "from sentence_transformers import SentenceTransformer\n",
    "\n",
    "# Charger un modèle pré-entraîné (par exemple, 'all-MiniLM-L6-v2')\n",
    "model = SentenceTransformer('all-MiniLM-L6-v2')"
   ]
  },
  {
   "cell_type": "code",
   "execution_count": 11,
   "id": "c62eeb12-901e-4414-8619-6de7ec8a5f88",
   "metadata": {},
   "outputs": [
    {
     "name": "stdout",
     "output_type": "stream",
     "text": [
      "    User-ID        ISBN  Book-Rating       Book-Title     Book-Author  \\\n",
      "0  276744.0  038550120X          7.0  a painted house    john grisham   \n",
      "1  276746.0  0425115801          0.0        lightning  dean r. koontz   \n",
      "2  276746.0  0786013990          0.0      at the edge       david dun   \n",
      "3  276762.0  0451167317          0.0    the dark half    stephen king   \n",
      "4  276786.0  8437606322          8.0    anna karenina     leo tolstoy   \n",
      "\n",
      "   Year-Of-Publication                 Publisher       categories  \\\n",
      "0               2001.0                 Doubleday          fiction   \n",
      "1               1996.0  Berkley Publishing Group          fiction   \n",
      "2               2002.0            Pinnacle Books          fiction   \n",
      "3               1994.0               Signet Book  english fiction   \n",
      "4               1999.0    Ediciones Catedra S.A.          fiction   \n",
      "\n",
      "                                         description  \\\n",
      "0  racial tension forbidden love affair murder se...   \n",
      "1  aid crise life miracul intervent stranger laur...   \n",
      "2  clair tempest leona triplet blessedor cursedea...   \n",
      "3  written author carri salem lot shine christin ...   \n",
      "4          awardwin new translat great russian novel   \n",
      "\n",
      "                              Location  ...  publisher_Yale Nota Bene  \\\n",
      "0              torrance california usa  ...                     False   \n",
      "1                         fort worth    ...                     False   \n",
      "2                         fort worth    ...                     False   \n",
      "3  duisburg nordrheinwestfalen germany  ...                     False   \n",
      "4                  madrid madrid spain  ...                     False   \n",
      "\n",
      "   publisher_Yale University Press  publisher_Yearling  \\\n",
      "0                            False               False   \n",
      "1                            False               False   \n",
      "2                            False               False   \n",
      "3                            False               False   \n",
      "4                            False               False   \n",
      "\n",
      "   publisher_Yearling Books  publisher_Yestermorrow Inc  \\\n",
      "0                     False                       False   \n",
      "1                     False                       False   \n",
      "2                     False                       False   \n",
      "3                     False                       False   \n",
      "4                     False                       False   \n",
      "\n",
      "   publisher_Zebra Books  publisher_Zebra Books (Mass Market)  \\\n",
      "0                  False                                False   \n",
      "1                  False                                False   \n",
      "2                  False                                False   \n",
      "3                  False                                False   \n",
      "4                  False                                False   \n",
      "\n",
      "   publisher_Zondervan Publishing Company  \\\n",
      "0                                   False   \n",
      "1                                   False   \n",
      "2                                   False   \n",
      "3                                   False   \n",
      "4                                   False   \n",
      "\n",
      "   publisher_distributed by Lippincott  publisher_scholastic  \n",
      "0                                False                 False  \n",
      "1                                False                 False  \n",
      "2                                False                 False  \n",
      "3                                False                 False  \n",
      "4                                False                 False  \n",
      "\n",
      "[5 rows x 3784 columns]\n"
     ]
    }
   ],
   "source": [
    "descriptions = data['description'].tolist()\n",
    "description_embeddings = model.encode(descriptions)\n",
    "description_embeddings_df = pd.DataFrame(description_embeddings)\n",
    "description_embeddings_df.columns = [f'desc_embed_{i}' for i in range(description_embeddings.shape[1])]\n",
    "\n",
    "# One-Hot Encoding pour les auteurs\n",
    "author_onehot = pd.get_dummies(data['Book-Author'], prefix='author')\n",
    "\n",
    "# One-Hot Encoding pour les catégories\n",
    "categories_onehot = pd.get_dummies(data['categories'], prefix='category')\n",
    "\n",
    "# One-Hot Encoding pour les éditeurs (optionnel)\n",
    "publisher_onehot = pd.get_dummies(data['Publisher'], prefix='publisher')\n",
    "\n",
    "# Combiner les nouvelles colonnes avec le tableau existant\n",
    "final_data = pd.concat([data, description_embeddings_df, author_onehot, categories_onehot, publisher_onehot], axis=1)\n",
    "\n",
    "# Sauvegarder le résultat (optionnel)\n",
    "final_data.to_csv('final_data_with_embeddings.csv', index=False)\n",
    "\n",
    "# Afficher le résultat\n",
    "print(final_data.head())"
   ]
  },
  {
   "cell_type": "code",
   "execution_count": 12,
   "id": "b35047c4-51ab-42d5-8d06-595af063b7a3",
   "metadata": {},
   "outputs": [
    {
     "name": "stdout",
     "output_type": "stream",
     "text": [
      "   desc_embed_0  desc_embed_1  desc_embed_2  desc_embed_3  desc_embed_4  \\\n",
      "0     -0.081907      0.056832     -0.072894      0.003609      0.008474   \n",
      "1     -0.104678      0.041777      0.026682     -0.006573      0.042539   \n",
      "2     -0.080322     -0.018269      0.027509     -0.034089     -0.000206   \n",
      "3     -0.051448     -0.028218     -0.029023      0.067669     -0.075008   \n",
      "4     -0.033280     -0.009284     -0.039122      0.059777     -0.123746   \n",
      "\n",
      "   desc_embed_5  desc_embed_6  desc_embed_7  desc_embed_8  desc_embed_9  \n",
      "0      0.079933      0.002951     -0.071217      0.011958      0.054024  \n",
      "1      0.113003      0.004491     -0.004804     -0.039285      0.044989  \n",
      "2      0.032274      0.082414     -0.074306     -0.023927     -0.000848  \n",
      "3      0.068725      0.036782     -0.020997     -0.045844     -0.016568  \n",
      "4      0.040082      0.060801      0.062259      0.008706      0.010951  \n"
     ]
    }
   ],
   "source": [
    "print(final_data[[f'desc_embed_{i}' for i in range(10)]].head())  # Affiche les 10 premières colonnes d'embeddings"
   ]
  },
  {
   "cell_type": "code",
   "execution_count": 17,
   "id": "fd2fc7c5-5be6-45f0-9c5d-f0b2236eaa02",
   "metadata": {},
   "outputs": [],
   "source": []
  },
  {
   "cell_type": "code",
   "execution_count": 19,
   "id": "1e9c8b63-27db-45e2-840c-002ddd7a0a8c",
   "metadata": {},
   "outputs": [
    {
     "name": "stdout",
     "output_type": "stream",
     "text": [
      "Index(['category_abused wives', 'category_accidents', 'category_actors',\n",
      "       'category_actresses', 'category_adolescence',\n",
      "       'category_adult education', 'category_adultery',\n",
      "       'category_adventure stories', 'category_aeneas (legendary character)',\n",
      "       'category_african american families',\n",
      "       ...\n",
      "       'category_television', 'category_travel', 'category_true crime',\n",
      "       'category_united states', 'category_vampires', 'category_war',\n",
      "       'category_women terrorists', 'category_world war, 1914-1918',\n",
      "       'category_young adult fiction', 'category_zero (the number)'],\n",
      "      dtype='object', length=314)\n"
     ]
    }
   ],
   "source": [
    "print(categories_onehot.columns)\n"
   ]
  },
  {
   "cell_type": "code",
   "execution_count": 22,
   "id": "6afa3854-17da-4642-a8cd-18e075c476e2",
   "metadata": {},
   "outputs": [],
   "source": [
    "import pickle\n",
    "\n",
    "with open('description_embeddings.pkl', 'wb') as f:\n",
    "    pickle.dump(model, f)\n"
   ]
  },
  {
   "cell_type": "code",
   "execution_count": null,
   "id": "732e576e-9883-4398-b2a7-1c2889ee6817",
   "metadata": {},
   "outputs": [],
   "source": []
  }
 ],
 "metadata": {
  "kernelspec": {
   "display_name": "Python 3 (ipykernel)",
   "language": "python",
   "name": "python3"
  },
  "language_info": {
   "codemirror_mode": {
    "name": "ipython",
    "version": 3
   },
   "file_extension": ".py",
   "mimetype": "text/x-python",
   "name": "python",
   "nbconvert_exporter": "python",
   "pygments_lexer": "ipython3",
   "version": "3.9.19"
  }
 },
 "nbformat": 4,
 "nbformat_minor": 5
}
